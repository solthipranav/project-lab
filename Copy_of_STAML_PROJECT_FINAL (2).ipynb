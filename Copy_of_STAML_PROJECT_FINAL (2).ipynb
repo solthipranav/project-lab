{
  "nbformat": 4,
  "nbformat_minor": 0,
  "metadata": {
    "colab": {
      "provenance": []
    },
    "kernelspec": {
      "name": "python3",
      "display_name": "Python 3"
    },
    "language_info": {
      "name": "python"
    }
  },
  "cells": [
    {
      "cell_type": "code",
      "execution_count": 8,
      "metadata": {
        "id": "COau5wDqg2vy"
      },
      "outputs": [],
      "source": [
        "import pandas as pd\n",
        "a=pd.read_csv('/content/statml credit card default.csv')"
      ]
    },
    {
      "cell_type": "code",
      "source": [
        "a=a.drop(columns=['ID'],axis=1)"
      ],
      "metadata": {
        "id": "B2Sd0312lz5V"
      },
      "execution_count": 9,
      "outputs": []
    },
    {
      "cell_type": "code",
      "source": [
        "import numpy as np\n",
        "X = a[['LIMIT_BAL', 'AGE']].values\n",
        "y = a['default payment_next_month'].values\n",
        "def sigmoid(z):\n",
        "    return 1 / (1 + np.exp(-z))\n",
        "theta = np.zeros(X.shape[1])\n",
        "print(theta)\n",
        "learning_rate = 0.01\n",
        "num_epochs = 1000"
      ],
      "metadata": {
        "id": "F5Uehc0EmMxB"
      },
      "execution_count": null,
      "outputs": []
    },
    {
      "cell_type": "code",
      "source": [
        "for epoch in range(num_epochs):\n",
        "    z = np.dot(X, theta)\n",
        "    h = sigmoid(z)\n",
        "    gradient = np.dot(X.T, (h - y)) / len(y)\n",
        "    theta -= learning_rate * gradient\n",
        "def sigmoid(z):\n",
        "    z = np.clip(z, -500, 500)\n",
        "    return 1 / (1 + np.exp(-z))\n",
        "def sigmoid(z):\n",
        "    z = np.clip(z, -500, 500)\n",
        "    return 1 / (1 + np.exp(-z))\n",
        "def predict(x_new, theta):\n",
        "    probability = sigmoid(np.dot(x_new, theta))\n",
        "    return 1 if probability >= 0.5 else 0\n",
        "new_feature1_value = 50000\n",
        "new_feature2_value = 30\n",
        "new_data_point = np.array([new_feature1_value, new_feature2_value])\n",
        "prediction = predict(new_data_point, theta)\n",
        "print(f\"Prediction: {prediction}\")"
      ],
      "metadata": {
        "colab": {
          "base_uri": "https://localhost:8080/",
          "height": 245
        },
        "id": "WRrQp02Ppv1m",
        "outputId": "b333ce57-747b-4c91-8126-1e75db0f9423"
      },
      "execution_count": 7,
      "outputs": [
        {
          "output_type": "error",
          "ename": "NameError",
          "evalue": "ignored",
          "traceback": [
            "\u001b[0;31m---------------------------------------------------------------------------\u001b[0m",
            "\u001b[0;31mNameError\u001b[0m                                 Traceback (most recent call last)",
            "\u001b[0;32m<ipython-input-7-3114cd70b1bd>\u001b[0m in \u001b[0;36m<cell line: 1>\u001b[0;34m()\u001b[0m\n\u001b[0;32m----> 1\u001b[0;31m \u001b[0;32mfor\u001b[0m \u001b[0mepoch\u001b[0m \u001b[0;32min\u001b[0m \u001b[0mrange\u001b[0m\u001b[0;34m(\u001b[0m\u001b[0mnum_epochs\u001b[0m\u001b[0;34m)\u001b[0m\u001b[0;34m:\u001b[0m\u001b[0;34m\u001b[0m\u001b[0;34m\u001b[0m\u001b[0m\n\u001b[0m\u001b[1;32m      2\u001b[0m     \u001b[0mz\u001b[0m \u001b[0;34m=\u001b[0m \u001b[0mnp\u001b[0m\u001b[0;34m.\u001b[0m\u001b[0mdot\u001b[0m\u001b[0;34m(\u001b[0m\u001b[0mX\u001b[0m\u001b[0;34m,\u001b[0m \u001b[0mtheta\u001b[0m\u001b[0;34m)\u001b[0m\u001b[0;34m\u001b[0m\u001b[0;34m\u001b[0m\u001b[0m\n\u001b[1;32m      3\u001b[0m     \u001b[0mh\u001b[0m \u001b[0;34m=\u001b[0m \u001b[0msigmoid\u001b[0m\u001b[0;34m(\u001b[0m\u001b[0mz\u001b[0m\u001b[0;34m)\u001b[0m\u001b[0;34m\u001b[0m\u001b[0;34m\u001b[0m\u001b[0m\n\u001b[1;32m      4\u001b[0m     \u001b[0mgradient\u001b[0m \u001b[0;34m=\u001b[0m \u001b[0mnp\u001b[0m\u001b[0;34m.\u001b[0m\u001b[0mdot\u001b[0m\u001b[0;34m(\u001b[0m\u001b[0mX\u001b[0m\u001b[0;34m.\u001b[0m\u001b[0mT\u001b[0m\u001b[0;34m,\u001b[0m \u001b[0;34m(\u001b[0m\u001b[0mh\u001b[0m \u001b[0;34m-\u001b[0m \u001b[0my\u001b[0m\u001b[0;34m)\u001b[0m\u001b[0;34m)\u001b[0m \u001b[0;34m/\u001b[0m \u001b[0mlen\u001b[0m\u001b[0;34m(\u001b[0m\u001b[0my\u001b[0m\u001b[0;34m)\u001b[0m\u001b[0;34m\u001b[0m\u001b[0;34m\u001b[0m\u001b[0m\n\u001b[1;32m      5\u001b[0m     \u001b[0mtheta\u001b[0m \u001b[0;34m-=\u001b[0m \u001b[0mlearning_rate\u001b[0m \u001b[0;34m*\u001b[0m \u001b[0mgradient\u001b[0m\u001b[0;34m\u001b[0m\u001b[0;34m\u001b[0m\u001b[0m\n",
            "\u001b[0;31mNameError\u001b[0m: name 'num_epochs' is not defined"
          ]
        }
      ]
    },
    {
      "cell_type": "code",
      "source": [
        "def calculate_accuracy_and_errors(X, y, theta):\n",
        "    predicted_probabilities = sigmoid(np.dot(X, theta))\n",
        "    predictions = (predicted_probabilities >= 0.5).astype(int)\n",
        "    accuracy = np.mean(predictions == y)\n",
        "    true_positives = np.sum((predictions == 1) & (y == 1))\n",
        "    true_negatives = np.sum((predictions == 0) & (y == 0))\n",
        "    false_positives = np.sum((predictions == 1) & (y == 0))\n",
        "    false_negatives = np.sum((predictions == 0) & (y == 1))\n",
        "\n",
        "\n",
        "    if (true_positives + false_positives) > 0:\n",
        "        precision = true_positives / (true_positives + false_positives)\n",
        "    else:\n",
        "        precision = 0.0\n",
        "\n",
        "    if (true_positives + false_negatives) > 0:\n",
        "        recall = true_positives / (true_positives + false_negatives)\n",
        "    else:\n",
        "        recall = 0.0\n",
        "\n",
        "    if (precision + recall) > 0:\n",
        "        f1_score = 2 * (precision * recall) / (precision + recall)\n",
        "    else:\n",
        "        f1_score = 0.0\n",
        "    print(f\"Accuracy: {accuracy}\")\n",
        "    print(f\"True Positives: {true_positives}\")\n",
        "    print(f\"True Negatives: {true_negatives}\")\n",
        "    print(f\"False Positives: {false_positives}\")\n",
        "    print(f\"False Negatives: {false_negatives}\")\n",
        "    print(f\"Precision: {precision}\")\n",
        "    print(f\"Recall: {recall}\")\n",
        "    print(f\"F1 Score: {f1_score}\")\n",
        "calculate_accuracy_and_errors(X, y, theta)"
      ],
      "metadata": {
        "colab": {
          "base_uri": "https://localhost:8080/"
        },
        "id": "-SbPwEWX9HwI",
        "outputId": "4589e51b-149c-43af-8385-fbe3763be770"
      },
      "execution_count": null,
      "outputs": [
        {
          "output_type": "stream",
          "name": "stdout",
          "text": [
            "Accuracy: 0.7788\n",
            "True Positives: 0\n",
            "True Negatives: 23364\n",
            "False Positives: 0\n",
            "False Negatives: 6636\n",
            "Precision: 0.0\n",
            "Recall: 0.0\n",
            "F1 Score: 0.0\n"
          ]
        }
      ]
    },
    {
      "cell_type": "code",
      "source": [
        "from sklearn.model_selection import train_test_split\n",
        "from sklearn.preprocessing import StandardScaler\n",
        "X_train, X_test, y_train, y_test = train_test_split(X, y, test_size=0.2, random_state=42)\n",
        "scaler = StandardScaler()\n",
        "X_train = scaler.fit_transform(X_train)\n",
        "X_test = scaler.transform(X_test)"
      ],
      "metadata": {
        "id": "YMmvtELr9MIS"
      },
      "execution_count": null,
      "outputs": []
    },
    {
      "cell_type": "code",
      "source": [
        "from sklearn.svm import SVC\n",
        "svm_classifier = SVC(kernel='linear', C=1.0, random_state=42)\n",
        "svm_classifier.fit(X_train, y_train)\n",
        "y_pred = svm_classifier.predict(X_test)\n",
        "from sklearn.metrics import accuracy_score\n",
        "accuracy = accuracy_score(y_test, y_pred)\n",
        "min_error = 1.0 - accuracy\n",
        "max_error = 1.0 - min_error\n",
        "print(f\"Accuracy: {accuracy}\")\n",
        "print(f\"Minimum Error: {min_error}\")\n",
        "print(f\"Maximum Error: {max_error}\")"
      ],
      "metadata": {
        "colab": {
          "base_uri": "https://localhost:8080/"
        },
        "id": "2yyQvKzJ-MHe",
        "outputId": "26f65f64-9254-4eba-965b-7d7ec8869a86"
      },
      "execution_count": null,
      "outputs": [
        {
          "output_type": "stream",
          "name": "stdout",
          "text": [
            "Accuracy: 0.7811666666666667\n",
            "Minimum Error: 0.21883333333333332\n",
            "Maximum Error: 0.7811666666666667\n"
          ]
        }
      ]
    },
    {
      "cell_type": "code",
      "source": [
        "from sklearn.linear_model import Perceptron\n",
        "perceptron_classifier = Perceptron(max_iter=1000, random_state=42)\n",
        "perceptron_classifier.fit(X_train, y_train)\n",
        "y_pred = perceptron_classifier.predict(X_test)\n",
        "from sklearn.metrics import accuracy_score\n",
        "accuracy = accuracy_score(y_test, y_pred)\n",
        "min_error = 1.0 - accuracy\n",
        "max_error = 1.0 - min_error\n",
        "print(f\"Accuracy: {accuracy}\")\n",
        "print(f\"Minimum Error: {min_error}\")\n",
        "print(f\"Maximum Error: {max_error}\")"
      ],
      "metadata": {
        "colab": {
          "base_uri": "https://localhost:8080/"
        },
        "id": "acMGbsO2_Pu5",
        "outputId": "38de78ab-7054-48d2-9d32-77fa8657f934"
      },
      "execution_count": null,
      "outputs": [
        {
          "output_type": "stream",
          "name": "stdout",
          "text": [
            "Accuracy: 0.6475\n",
            "Minimum Error: 0.35250000000000004\n",
            "Maximum Error: 0.6475\n"
          ]
        }
      ]
    },
    {
      "cell_type": "code",
      "source": [
        "import pandas as pd\n",
        "import numpy as np\n",
        "from sklearn.model_selection import train_test_split\n",
        "from sklearn.preprocessing import StandardScaler\n",
        "from sklearn.ensemble import RandomForestClassifier\n",
        "from sklearn.metrics import accuracy_score, classification_report, confusion_matrix\n",
        "data = pd.read_csv('/content/credit_card_default.csv')\n",
        "X = data.drop('default payment_next_month', axis=1)  # Features\n",
        "y = data['default payment_next_month']  # Target variable\n",
        "X_train, X_test, y_train, y_test = train_test_split(X, y, test_size=0.2, random_state=42)\n",
        "scaler = StandardScaler()\n",
        "X_train = scaler.fit_transform(X_train)\n",
        "X_test = scaler.transform(X_test)\n",
        "rf_classifier = RandomForestClassifier(n_estimators=100, random_state=42)\n",
        "rf_classifier.fit(X_train, y_train)\n",
        "y_pred = rf_classifier.predict(X_test)\n",
        "accuracy = accuracy_score(y_test, y_pred)\n",
        "print(f\"Accuracy: {accuracy}\")\n",
        "class_report = classification_report(y_test, y_pred)\n",
        "print(\"Classification Report:\\n\", class_report)\n",
        "conf_matrix = confusion_matrix(y_test, y_pred)\n",
        "print(\"Confusion Matrix:\\n\", conf_matrix)"
      ],
      "metadata": {
        "colab": {
          "base_uri": "https://localhost:8080/"
        },
        "id": "4FiN5WAwBg9r",
        "outputId": "a78ca06b-d157-4923-ac84-86a08d8a2298"
      },
      "execution_count": null,
      "outputs": [
        {
          "output_type": "stream",
          "name": "stdout",
          "text": [
            "Accuracy: 0.8131666666666667\n",
            "Classification Report:\n",
            "               precision    recall  f1-score   support\n",
            "\n",
            "           0       0.84      0.94      0.89      4687\n",
            "           1       0.63      0.36      0.46      1313\n",
            "\n",
            "    accuracy                           0.81      6000\n",
            "   macro avg       0.73      0.65      0.67      6000\n",
            "weighted avg       0.79      0.81      0.79      6000\n",
            "\n",
            "Confusion Matrix:\n",
            " [[4411  276]\n",
            " [ 845  468]]\n"
          ]
        }
      ]
    },
    {
      "cell_type": "code",
      "source": [
        "import pandas as pd\n",
        "a=pd.read_csv('/content/statml credit card default.csv')\n",
        "print(a)"
      ],
      "metadata": {
        "colab": {
          "base_uri": "https://localhost:8080/"
        },
        "id": "mnQQmh0OGUjx",
        "outputId": "e2c5d40b-fbd4-4323-933e-8ab4c8fbf81c"
      },
      "execution_count": 12,
      "outputs": [
        {
          "output_type": "stream",
          "name": "stdout",
          "text": [
            "          ID  LIMIT_BAL  SEX  EDUCATION  MARRIAGE  AGE  PAY_0  PAY_2  PAY_3  \\\n",
            "0          1    20000.0    2          2         1   24      2      2     -1   \n",
            "1          2   120000.0    2          2         2   26     -1      2      0   \n",
            "2          3    90000.0    2          2         2   34      0      0      0   \n",
            "3          4    50000.0    2          2         1   37      0      0      0   \n",
            "4          5    50000.0    1          2         1   57     -1      0     -1   \n",
            "...      ...        ...  ...        ...       ...  ...    ...    ...    ...   \n",
            "29995  29996   220000.0    1          3         1   39      0      0      0   \n",
            "29996  29997   150000.0    1          3         2   43     -1     -1     -1   \n",
            "29997  29998    30000.0    1          2         2   37      4      3      2   \n",
            "29998  29999    80000.0    1          3         1   41      1     -1      0   \n",
            "29999  30000    50000.0    1          2         1   46      0      0      0   \n",
            "\n",
            "       PAY_4  ...  BILL_AMT4  BILL_AMT5  BILL_AMT6  PAY_AMT1  PAY_AMT2  \\\n",
            "0         -1  ...        0.0        0.0        0.0       0.0     689.0   \n",
            "1          0  ...     3272.0     3455.0     3261.0       0.0    1000.0   \n",
            "2          0  ...    14331.0    14948.0    15549.0    1518.0    1500.0   \n",
            "3          0  ...    28314.0    28959.0    29547.0    2000.0    2019.0   \n",
            "4          0  ...    20940.0    19146.0    19131.0    2000.0   36681.0   \n",
            "...      ...  ...        ...        ...        ...       ...       ...   \n",
            "29995      0  ...    88004.0    31237.0    15980.0    8500.0   20000.0   \n",
            "29996     -1  ...     8979.0     5190.0        0.0    1837.0    3526.0   \n",
            "29997     -1  ...    20878.0    20582.0    19357.0       0.0       0.0   \n",
            "29998      0  ...    52774.0    11855.0    48944.0   85900.0    3409.0   \n",
            "29999      0  ...    36535.0    32428.0    15313.0    2078.0    1800.0   \n",
            "\n",
            "       PAY_AMT3  PAY_AMT4  PAY_AMT5  PAY_AMT6  default.payment.next.month  \n",
            "0           0.0       0.0       0.0       0.0                           1  \n",
            "1        1000.0    1000.0       0.0    2000.0                           1  \n",
            "2        1000.0    1000.0    1000.0    5000.0                           0  \n",
            "3        1200.0    1100.0    1069.0    1000.0                           0  \n",
            "4       10000.0    9000.0     689.0     679.0                           0  \n",
            "...         ...       ...       ...       ...                         ...  \n",
            "29995    5003.0    3047.0    5000.0    1000.0                           0  \n",
            "29996    8998.0     129.0       0.0       0.0                           0  \n",
            "29997   22000.0    4200.0    2000.0    3100.0                           1  \n",
            "29998    1178.0    1926.0   52964.0    1804.0                           1  \n",
            "29999    1430.0    1000.0    1000.0    1000.0                           1  \n",
            "\n",
            "[30000 rows x 25 columns]\n"
          ]
        }
      ]
    },
    {
      "cell_type": "code",
      "source": [
        "# Import necessary libraries\n",
        "import pandas as pd\n",
        "import numpy as np\n",
        "from sklearn.model_selection import train_test_split, ShuffleSplit\n",
        "from sklearn.neighbors import KNeighborsRegressor\n",
        "from sklearn.metrics import mean_squared_error\n",
        "\n",
        "# Load the dataset\n",
        "data = pd.read_csv('/content/statml credit card default.csv')  # Replace with the path to your dataset\n",
        "\n",
        "# Define the features (X) and the target variable (y)\n",
        "X = data.drop(columns=[\"default.payment.next.month\"])  # Features\n",
        "y = data[\"default.payment.next.month\"]  # Target variable\n",
        "\n",
        "# Split the data into training and testing sets\n",
        "X_train, X_test, y_train, y_test = train_test_split(X, y, test_size=0.2, random_state=42)\n",
        "\n",
        "# Set the number of bootstrap iterations\n",
        "n_iterations = 100  # You can adjust this as needed\n",
        "\n",
        "# Initialize a list to store the MSE for each iteration\n",
        "mse_scores = []\n",
        "\n",
        "# Initialize KNN Regressor\n",
        "knn_regressor = KNeighborsRegressor(n_neighbors=5)  # You can adjust the number of neighbors\n",
        "\n",
        "# Create a ShuffleSplit object for bootstrapping\n",
        "ss = ShuffleSplit(n_splits=n_iterations, test_size=0.2, random_state=42)\n",
        "\n",
        "# Perform bootstrapped KNN regression\n",
        "for train_index, _ in ss.split(X_train):\n",
        "    X_train_bootstrap = X_train.iloc[train_index]\n",
        "    y_train_bootstrap = y_train.iloc[train_index]\n",
        "\n",
        "    # Fit the model to the bootstrap sample\n",
        "    knn_regressor.fit(X_train_bootstrap, y_train_bootstrap)\n",
        "\n",
        "    # Make predictions on the test set\n",
        "    y_pred = knn_regressor.predict(X_test)\n",
        "\n",
        "    # Calculate Mean Squared Error for this iteration\n",
        "    mse = mean_squared_error(y_test, y_pred)\n",
        "    mse_scores.append(mse)\n",
        "\n",
        "# Calculate and print the average MSE across iterations\n",
        "average_mse = np.mean(mse_scores)\n",
        "print(f\"Average Mean Squared Error: {average_mse}\")\n"
      ],
      "metadata": {
        "colab": {
          "base_uri": "https://localhost:8080/"
        },
        "id": "VLRIiloNHow6",
        "outputId": "e53518b4-5ede-483d-92c4-fc8f4c847896"
      },
      "execution_count": 13,
      "outputs": [
        {
          "output_type": "stream",
          "name": "stdout",
          "text": [
            "Average Mean Squared Error: 0.18968819999999997\n"
          ]
        }
      ]
    }
  ]
}